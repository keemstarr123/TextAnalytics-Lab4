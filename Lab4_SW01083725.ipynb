{
 "cells": [
  {
   "cell_type": "code",
   "execution_count": 19,
   "id": "bbf5e26b-354d-4b32-8576-b756a118c719",
   "metadata": {},
   "outputs": [
    {
     "name": "stdout",
     "output_type": "stream",
     "text": [
      "                                                                           Review\n",
      "0   The product arrived on time. Packaging was great, and the quality is amazing!\n",
      "1                                        THIS PRODUCT IS JUST AMAZING! I LOVE IT.\n",
      "2     I bought this phone for $799, and it has a 120Hz display. Totally worth it!\n",
      "3                         Wow!!! This product is awesome... but a bit expensive??\n",
      "4                                             The laptop works perfectly fine.   \n",
      "5    Check out the full product details here: https://example.com/product-details\n",
      "6         <div><h2>Great Purchase!</h2><p>I am happy with this product.</p></div>\n",
      "7                The battry life is excelent, but the chargin cable is too short.\n",
      "8                       I can't believe it's so good! Didn't expect such quality.\n",
      "9                   Love this product! ???? Fast delivery ??, amazing quality! ??\n",
      "10                       TBH, I wasnt expecting much, but OMG, this is awesome!!\n",
      "11                          This is the best product I have ever used in my life!\n",
      "12  The shoes were comfortable, fitting nicely, and worked perfectly for jogging.\n"
     ]
    }
   ],
   "source": [
    "# Load dataset \n",
    "import pandas as pd \n",
    "file_path = \"Review.csv\" \n",
    "df = pd.read_csv(file_path, encoding=\"ISO-8859-1\") \n",
    "# Display column content without truncation \n",
    "pd.set_option('display.max_colwidth', None)  # Set to None for unlimited width \n",
    "print(df)"
   ]
  },
  {
   "cell_type": "code",
   "execution_count": 20,
   "id": "db6d8ef8-873a-4c63-90ee-0163969bd8b7",
   "metadata": {},
   "outputs": [
    {
     "name": "stdout",
     "output_type": "stream",
     "text": [
      "0     the product arrived on time. packaging was great, and the quality is amazing!\n",
      "1                                          this product is just amazing! i love it.\n",
      "2       i bought this phone for $799, and it has a 120hz display. totally worth it!\n",
      "3                           wow!!! this product is awesome... but a bit expensive??\n",
      "4                                               the laptop works perfectly fine.   \n",
      "5      check out the full product details here: https://example.com/product-details\n",
      "6           <div><h2>great purchase!</h2><p>i am happy with this product.</p></div>\n",
      "7                  the battry life is excelent, but the chargin cable is too short.\n",
      "8                         i can't believe it's so good! didn't expect such quality.\n",
      "9                     love this product! ???? fast delivery ??, amazing quality! ??\n",
      "10                         tbh, i wasnt expecting much, but omg, this is awesome!!\n",
      "11                            this is the best product i have ever used in my life!\n",
      "12    the shoes were comfortable, fitting nicely, and worked perfectly for jogging.\n",
      "Name: lowercased, dtype: object\n"
     ]
    }
   ],
   "source": [
    "# Lowercase conversion \n",
    "def convert_to_lowercase(text): \n",
    "    return text.lower() \n",
    "df[\"lowercased\"] = df[\"Review\"].apply(convert_to_lowercase) \n",
    "# Display column content without truncation \n",
    "pd.set_option('display.max_colwidth', None)  # Set to None for unlimited width \n",
    "print(df[\"lowercased\"])"
   ]
  },
  {
   "cell_type": "code",
   "execution_count": 21,
   "id": "940bd832-900c-490c-afdd-ee3b5ada3228",
   "metadata": {},
   "outputs": [
    {
     "name": "stdout",
     "output_type": "stream",
     "text": [
      "0     the product arrived on time. packaging was great, and the quality is amazing!\n",
      "1                                          this product is just amazing! i love it.\n",
      "2       i bought this phone for $799, and it has a 120hz display. totally worth it!\n",
      "3                           wow!!! this product is awesome... but a bit expensive??\n",
      "4                                               the laptop works perfectly fine.   \n",
      "5                                         check out the full product details here: \n",
      "6           <div><h2>great purchase!</h2><p>i am happy with this product.</p></div>\n",
      "7                  the battry life is excelent, but the chargin cable is too short.\n",
      "8                         i can't believe it's so good! didn't expect such quality.\n",
      "9                     love this product! ???? fast delivery ??, amazing quality! ??\n",
      "10                         tbh, i wasnt expecting much, but omg, this is awesome!!\n",
      "11                            this is the best product i have ever used in my life!\n",
      "12    the shoes were comfortable, fitting nicely, and worked perfectly for jogging.\n",
      "Name: urls_removed, dtype: object\n"
     ]
    }
   ],
   "source": [
    "# Removal of URLs \n",
    "import re \n",
    "# remove any URLs that start with \"http\" or \"www\" from the text \n",
    "def remove_urls(text): \n",
    "    return re.sub(r'http\\S+|www\\S+', '', text)  \n",
    "df[\"urls_removed\"] = df[\"lowercased\"].apply(remove_urls) \n",
    "# Display column content without truncation \n",
    "pd.set_option('display.max_colwidth', None)  # Set to None for unlimited width \n",
    "print(df[\"urls_removed\"]) "
   ]
  },
  {
   "cell_type": "code",
   "execution_count": 22,
   "id": "b4fd3990-cf63-4d50-81ee-642b2675eac0",
   "metadata": {},
   "outputs": [
    {
     "name": "stdout",
     "output_type": "stream",
     "text": [
      "0     the product arrived on time. packaging was great, and the quality is amazing!\n",
      "1                                          this product is just amazing! i love it.\n",
      "2       i bought this phone for $799, and it has a 120hz display. totally worth it!\n",
      "3                           wow!!! this product is awesome... but a bit expensive??\n",
      "4                                               the laptop works perfectly fine.   \n",
      "5                                         check out the full product details here: \n",
      "6                                      great purchase!i am happy with this product.\n",
      "7                  the battry life is excelent, but the chargin cable is too short.\n",
      "8                         i can't believe it's so good! didn't expect such quality.\n",
      "9                     love this product! ???? fast delivery ??, amazing quality! ??\n",
      "10                         tbh, i wasnt expecting much, but omg, this is awesome!!\n",
      "11                            this is the best product i have ever used in my life!\n",
      "12    the shoes were comfortable, fitting nicely, and worked perfectly for jogging.\n",
      "Name: html_removed, dtype: object\n"
     ]
    }
   ],
   "source": [
    "from bs4 import BeautifulSoup \n",
    "# extracts only the text, removing all HTML tags \n",
    "def remove_html_tags(text): \n",
    "    return BeautifulSoup(text, \"html.parser\").get_text() \n",
    "\n",
    "df[\"html_removed\"] = df[\"urls_removed\"].apply(remove_html_tags) \n",
    "# Display column content without truncation \n",
    "pd.set_option('display.max_colwidth', None)  # Set to None for unlimited width \n",
    "print(df[\"html_removed\"])"
   ]
  },
  {
   "cell_type": "code",
   "execution_count": 23,
   "id": "f6489a9d-b44b-4581-b641-a210ce3c0117",
   "metadata": {},
   "outputs": [
    {
     "name": "stdout",
     "output_type": "stream",
     "text": [
      "Defaulting to user installation because normal site-packages is not writeable\n",
      "Requirement already satisfied: emoji in c:\\users\\haoho\\appdata\\roaming\\python\\python312\\site-packages (2.14.1)\n"
     ]
    }
   ],
   "source": [
    "!pip install emoji"
   ]
  },
  {
   "cell_type": "code",
   "execution_count": 24,
   "id": "747190e4-b342-4156-a3eb-dfb6c348eb52",
   "metadata": {},
   "outputs": [
    {
     "name": "stdout",
     "output_type": "stream",
     "text": [
      "0     the product arrived on time. packaging was great, and the quality is amazing!\n",
      "1                                          this product is just amazing! i love it.\n",
      "2       i bought this phone for $799, and it has a 120hz display. totally worth it!\n",
      "3                           wow!!! this product is awesome... but a bit expensive??\n",
      "4                                               the laptop works perfectly fine.   \n",
      "5                                         check out the full product details here: \n",
      "6                                      great purchase!i am happy with this product.\n",
      "7                  the battry life is excelent, but the chargin cable is too short.\n",
      "8                         i can't believe it's so good! didn't expect such quality.\n",
      "9                     love this product! ???? fast delivery ??, amazing quality! ??\n",
      "10                         tbh, i wasnt expecting much, but omg, this is awesome!!\n",
      "11                            this is the best product i have ever used in my life!\n",
      "12    the shoes were comfortable, fitting nicely, and worked perfectly for jogging.\n",
      "Name: emojis_removed, dtype: object\n"
     ]
    }
   ],
   "source": [
    "# Removal of emojis (if any) \n",
    "import emoji \n",
    "# replace emoji with '' \n",
    "def remove_emojis(text): \n",
    "    return emoji.replace_emoji(text, replace='') \n",
    "df[\"emojis_removed\"] = df[\"html_removed\"].apply(remove_emojis) \n",
    "# Display column content without truncation \n",
    "pd.set_option('display.max_colwidth', None)  # Set to None for unlimited width \n",
    "print(df[\"emojis_removed\"]) "
   ]
  },
  {
   "cell_type": "code",
   "execution_count": 25,
   "id": "df252b8c-090e-4c05-bc5a-d830314aa09c",
   "metadata": {},
   "outputs": [
    {
     "name": "stdout",
     "output_type": "stream",
     "text": [
      "0     the product arrived on time. packaging was great, and the quality is amazing!\n",
      "1                                          this product is just amazing! i love it.\n",
      "2       i bought this phone for $799, and it has a 120hz display. totally worth it!\n",
      "3                           wow!!! this product is awesome... but a bit expensive??\n",
      "4                                               the laptop works perfectly fine.   \n",
      "5                                         check out the full product details here: \n",
      "6                                      great purchase!i am happy with this product.\n",
      "7                  the battry life is excelent, but the chargin cable is too short.\n",
      "8                         i can't believe it's so good! didn't expect such quality.\n",
      "9                     love this product! ???? fast delivery ??, amazing quality! ??\n",
      "10          to be honest, i wasnt expecting much, but oh my god, this is awesome!!\n",
      "11                            this is the best product i have ever used in my life!\n",
      "12    the shoes were comfortable, fitting nicely, and worked perfectly for jogging.\n",
      "Name: slangs_replaced, dtype: object\n"
     ]
    }
   ],
   "source": [
    "slang_dict = { \n",
    "\"tbh\": \"to be honest\", \n",
    "\"omg\": \"oh my god\", \n",
    "\"lol\": \"laugh out loud\", \n",
    "\"idk\": \"I don't know\", \n",
    "\"brb\": \"be right back\", \n",
    "\"btw\": \"by the way\", \n",
    "\"imo\": \"in my opinion\", \n",
    "\"smh\": \"shaking my head\", \n",
    "\"fyi\": \"for your information\", \n",
    "\"np\": \"no problem\",    \n",
    "\"ikr\": \"I know right\", \n",
    "\"asap\": \"as soon as possible\", \n",
    "\"bff\": \"best friend forever\", \n",
    "\"gg\": \"good game\", \n",
    "\"hmu\": \"hit me up\", \n",
    "\"rofl\": \"rolling on the floor laughing\" \n",
    "}\n",
    "# Function to replace slang words \n",
    "def replace_slang(text): \n",
    "    # Create a list of escaped slang words \n",
    "    escaped_slang_words = []  # Empty list to store escaped slang words \n",
    " \n",
    "    for word in slang_dict.keys(): \n",
    "        escaped_word = re.escape(word)  # Ensure special characters are escaped \n",
    "        escaped_slang_words.append(escaped_word)  # Add to list \n",
    " \n",
    "    # Join the words using '|' \n",
    "    slang_pattern = r'\\b(' + '|'.join(escaped_slang_words) + r')\\b' \n",
    " \n",
    "    # Define a replacement function \n",
    "    def replace_match(match): \n",
    "        slang_word = match.group(0)  # Extract matched slang word \n",
    "        return slang_dict[slang_word.lower()]  # Replace with full form \n",
    " \n",
    "    # Use regex to replace slang words with full forms \n",
    "    replaced_text = re.sub(slang_pattern, replace_match, text, flags=re.IGNORECASE) \n",
    " \n",
    "    return replaced_text \n",
    " \n",
    " \n",
    "# Apply the function to the column \n",
    "df[\"slangs_replaced\"] = df[\"emojis_removed\"].apply(replace_slang) \n",
    " \n",
    "# Display column content without truncation \n",
    "pd.set_option('display.max_colwidth', None)  # Set to None for unlimited width \n",
    "print(df[\"slangs_replaced\"])"
   ]
  },
  {
   "cell_type": "code",
   "execution_count": 26,
   "id": "376de155-d268-49a2-ad5d-4a9342a2f36b",
   "metadata": {},
   "outputs": [
    {
     "name": "stdout",
     "output_type": "stream",
     "text": [
      "0     the product arrived on time. packaging was great, and the quality is amazing!\n",
      "1                                          this product is just amazing! i love it.\n",
      "2       i bought this phone for $799, and it has a 120hz display. totally worth it!\n",
      "3                           wow!!! this product is awesome... but a bit expensive??\n",
      "4                                               the laptop works perfectly fine.   \n",
      "5                                         check out the full product details here: \n",
      "6                                      great purchase!i am happy with this product.\n",
      "7                  the battry life is excelent, but the chargin cable is too short.\n",
      "8                      i cannot believe it is so good! did not expect such quality.\n",
      "9                     love this product! ???? fast delivery ??, amazing quality! ??\n",
      "10          to be honest, i wasnt expecting much, but oh my god, this is awesome!!\n",
      "11                            this is the best product i have ever used in my life!\n",
      "12    the shoes were comfortable, fitting nicely, and worked perfectly for jogging.\n",
      "Name: contractions_replaced, dtype: object\n"
     ]
    }
   ],
   "source": [
    "# Replace Contractions \n",
    "contractions_dict = { \n",
    "\"wasn't\": \"was not\", \n",
    "\"isn't\": \"is not\", \n",
    "\"aren't\": \"are not\", \n",
    "\"weren't\": \"were not\", \n",
    "\"doesn't\": \"does not\", \n",
    "\"don't\": \"do not\", \n",
    "\"didn't\": \"did not\", \n",
    "\"can't\": \"cannot\", \n",
    "\"couldn't\": \"could not\", \n",
    "\"shouldn't\": \"should not\", \n",
    "\"wouldn't\": \"would not\", \n",
    "\"won't\": \"will not\", \n",
    "\"haven't\": \"have not\", \n",
    "\"hasn't\": \"has not\", \n",
    "\"hadn't\": \"had not\", \n",
    "\"i'm\": \"i am\", \n",
    "\"you're\": \"you are\", \n",
    "\"he's\": \"he is\", \n",
    "\"she's\": \"she is\", \n",
    "\"it's\": \"it is\", \n",
    "\"we're\": \"we are\", \n",
    "\"they're\": \"they are\", \n",
    "\"i've\": \"i have\", \n",
    "\"you've\": \"you have\", \n",
    "\"we've\": \"we have\", \n",
    "\"they've\": \"they have\", \n",
    "\"i'd\": \"i would\", \n",
    "\"you'd\": \"you would\", \n",
    "\"he'd\": \"he would\", \n",
    "\"she'd\": \"she would\", \n",
    "\"we'd\": \"we would\", \n",
    "\"they'd\": \"they would\", \n",
    "\"i'll\": \"i will\", \n",
    "\"you'll\": \"you will\", \n",
    "\"he'll\": \"he will\", \n",
    "\"she'll\": \"she will\", \n",
    "\"we'll\": \"we will\", \n",
    "\"they'll\": \"they will\", \n",
    "\"let's\": \"let us\", \n",
    "\"that's\": \"that is\", \n",
    "\"who's\": \"who is\", \n",
    "\"what's\": \"what is\", \n",
    "\"where's\": \"where is\", \n",
    "\"when's\": \"when is\", \n",
    "\"why's\": \"why is\" \n",
    "} \n",
    "# Build the regex pattern for contractions \n",
    "escaped_contractions = []  # List to store escaped contractions \n",
    "for contraction in contractions_dict.keys(): \n",
    "    escaped_contraction = re.escape(contraction)  # Escape special characters (e.g., apostrophes) \n",
    "    escaped_contractions.append(escaped_contraction)  # Add to list \n",
    "# Join the escaped contractions with '|' \n",
    "joined_contractions = \"|\".join(escaped_contractions) \n",
    "# Create a regex pattern with word boundaries (\\b) \n",
    "contractions_pattern = r'\\b(' + joined_contractions + r')\\b' \n",
    "# Compile the regex \n",
    "compiled_pattern = re.compile(contractions_pattern, flags=re.IGNORECASE) \n",
    "# Define a function to replace contractions \n",
    "def replace_contractions(text): \n",
    "    # Function to handle each match found \n",
    "    def replace_match(match): \n",
    "        matched_word = match.group(0)  # Extract matched contraction \n",
    "        lower_matched_word = matched_word.lower()  # Convert to lowercase \n",
    "        expanded_form = contractions_dict[lower_matched_word]  # Get full form from  dictionary \n",
    "        return expanded_form  # Return the expanded form \n",
    "    # Apply regex substitution \n",
    "    expanded_text = compiled_pattern.sub(replace_match, text) \n",
    "    return expanded_text  # Return modified text \n",
    "# Apply the function to a DataFrame column \n",
    "df[\"contractions_replaced\"] = df[\"slangs_replaced\"].apply(replace_contractions) \n",
    "# Display column content without truncation \n",
    "pd.set_option('display.max_colwidth', None)  # Set to None for unlimited width \n",
    "print(df[\"contractions_replaced\"]) "
   ]
  },
  {
   "cell_type": "code",
   "execution_count": 27,
   "id": "d4dcb5b9-eeb8-4726-8f16-287838d856e6",
   "metadata": {},
   "outputs": [
    {
     "name": "stdout",
     "output_type": "stream",
     "text": [
      "0     the product arrived on time packaging was great and the quality is amazing\n",
      "1                                         this product is just amazing i love it\n",
      "2        i bought this phone for 799 and it has a 120hz display totally worth it\n",
      "3                                wow this product is awesome but a bit expensive\n",
      "4                                             the laptop works perfectly fine   \n",
      "5                                       check out the full product details here \n",
      "6                                     great purchasei am happy with this product\n",
      "7                 the battry life is excelent but the chargin cable is too short\n",
      "8                     i cannot believe it is so good did not expect such quality\n",
      "9                             love this product  fast delivery  amazing quality \n",
      "10            to be honest i wasnt expecting much but oh my god this is awesome\n",
      "11                          this is the best product i have ever used in my life\n",
      "12    the shoes were comfortable fitting nicely and worked perfectly for jogging\n",
      "Name: punctuations_removed, dtype: object\n"
     ]
    }
   ],
   "source": [
    "# Remove punctuations and special characters \n",
    "import string \n",
    "# Function to remove punctuation \n",
    "def remove_punctuation(text): \n",
    "    return text.translate(str.maketrans('', '', string.punctuation)) \n",
    "# Apply the function to the column \n",
    "df[\"punctuations_removed\"] = df[\"contractions_replaced\"].apply(remove_punctuation) \n",
    "# Display column content without truncation \n",
    "pd.set_option('display.max_colwidth', None)  # Set to None for unlimited width \n",
    "print(df[\"punctuations_removed\"])"
   ]
  },
  {
   "cell_type": "code",
   "execution_count": 28,
   "id": "cfeaa0bd-639b-4107-886d-b6f288bd7163",
   "metadata": {},
   "outputs": [
    {
     "name": "stdout",
     "output_type": "stream",
     "text": [
      "0     the product arrived on time packaging was great and the quality is amazing\n",
      "1                                         this product is just amazing i love it\n",
      "2              i bought this phone for  and it has a hz display totally worth it\n",
      "3                                wow this product is awesome but a bit expensive\n",
      "4                                             the laptop works perfectly fine   \n",
      "5                                       check out the full product details here \n",
      "6                                     great purchasei am happy with this product\n",
      "7                 the battry life is excelent but the chargin cable is too short\n",
      "8                     i cannot believe it is so good did not expect such quality\n",
      "9                             love this product  fast delivery  amazing quality \n",
      "10            to be honest i wasnt expecting much but oh my god this is awesome\n",
      "11                          this is the best product i have ever used in my life\n",
      "12    the shoes were comfortable fitting nicely and worked perfectly for jogging\n",
      "Name: numbers_removed, dtype: object\n"
     ]
    }
   ],
   "source": [
    "# Remove numbers \n",
    "def remove_numbers(text): \n",
    "    return re.sub(r'\\d+', '', text)  # Removes all numeric characters \n",
    "# Apply the function to the column \n",
    "df[\"numbers_removed\"] = df[\"punctuations_removed\"].apply(remove_numbers) \n",
    "# Display column content without truncation \n",
    "pd.set_option('display.max_colwidth', None)  # Set to None for unlimited width \n",
    "print(df[\"numbers_removed\"])"
   ]
  },
  {
   "cell_type": "code",
   "execution_count": 29,
   "id": "06282155-6905-473d-bb73-a7f3f04a5f52",
   "metadata": {},
   "outputs": [
    {
     "name": "stdout",
     "output_type": "stream",
     "text": [
      "0     the product arrived on time packaging was great and the quality is amazing\n",
      "1                                         this product is just amazing i love it\n",
      "2              i bought this phone for  and it has a hz display totally worth it\n",
      "3                                wow this product is awesome but a bit expensive\n",
      "4                                             the laptop works perfectly fine   \n",
      "5                                       check out the full product details here \n",
      "6                                     great purchased am happy with this product\n",
      "7              the battery life is excellent but the charging cable is too short\n",
      "8                     i cannot believe it is so good did not expect such quality\n",
      "9                             love this product  fast delivery  amazing quality \n",
      "10            to be honest i wasnt expecting much but oh my god this is awesome\n",
      "11                          this is the best product i have ever used in my life\n",
      "12    the shoes were comfortable fitting nicely and worked perfectly for jogging\n",
      "Name: spelling_corrected, dtype: object\n"
     ]
    }
   ],
   "source": [
    "# Correct spelling mistakes \n",
    "from autocorrect import Speller \n",
    "# Initialize spell checker \n",
    "spell = Speller(lang='en') \n",
    "# Function to correct spelling \n",
    "def correct_spelling(text): \n",
    "    return spell(text)  # Apply correction \n",
    "# Apply the function to the column \n",
    "df[\"spelling_corrected\"] = df[\"numbers_removed\"].apply(correct_spelling)\n",
    "# Display column content without truncation \n",
    "pd.set_option('display.max_colwidth', None)  # Set to None for unlimited width \n",
    "print(df[\"spelling_corrected\"])"
   ]
  },
  {
   "cell_type": "code",
   "execution_count": 30,
   "id": "70c30dfe-b263-4173-9184-0c56615693e0",
   "metadata": {},
   "outputs": [
    {
     "name": "stdout",
     "output_type": "stream",
     "text": [
      "0          product arrived time packaging great quality amazing\n",
      "1                                          product amazing love\n",
      "2                         bought phone hz display totally worth\n",
      "3                             wow product awesome bit expensive\n",
      "4                                   laptop works perfectly fine\n",
      "5                                    check full product details\n",
      "6                                 great purchased happy product\n",
      "7                   battery life excellent charging cable short\n",
      "8                            cannot believe good expect quality\n",
      "9                    love product fast delivery amazing quality\n",
      "10                  honest wasnt expecting much oh god awesome\n",
      "11                                  best product ever used life\n",
      "12    shoes comfortable fitting nicely worked perfectly jogging\n",
      "Name: stopwords_removed, dtype: object\n"
     ]
    },
    {
     "name": "stderr",
     "output_type": "stream",
     "text": [
      "[nltk_data] Downloading package stopwords to\n",
      "[nltk_data]     C:\\Users\\haoho\\AppData\\Roaming\\nltk_data...\n",
      "[nltk_data]   Package stopwords is already up-to-date!\n"
     ]
    }
   ],
   "source": [
    "# Remove stopwords \n",
    "import nltk \n",
    "from nltk.corpus import stopwords \n",
    "# Download stopwords if not already downloaded \n",
    "nltk.download('stopwords') \n",
    "# Define stopwords list \n",
    "stop_words = set(stopwords.words('english')) \n",
    "# Function to remove stopwords \n",
    "def remove_stopwords(text): \n",
    "    words = text.split()  # Split text into words \n",
    "    filtered_words = []  # Create an empty list to store words after stopword removal \n",
    "    for word in words:  # Loop through each word in the list of words \n",
    "        lower_word = word.lower()  # Convert the word to lowercase for uniform comparison \n",
    "        if lower_word not in stop_words:  # Check if the lowercase word is NOT in the stopwords list \n",
    "            filtered_words.append(word)  # If it's not a stopword, add it to the filtered list \n",
    "    return \" \".join(filtered_words)  # Join words back into a sentence \n",
    "# Apply the function to the column \n",
    "df[\"stopwords_removed\"] = df[\"spelling_corrected\"].apply(remove_stopwords) \n",
    "# Display column content without truncation \n",
    "pd.set_option('display.max_colwidth', None)  # Set to None for unlimited width \n",
    "print(df[\"stopwords_removed\"])"
   ]
  },
  {
   "cell_type": "code",
   "execution_count": 31,
   "id": "ffd25fbd-3917-467b-b3f3-5fe554702b2c",
   "metadata": {},
   "outputs": [
    {
     "name": "stdout",
     "output_type": "stream",
     "text": [
      "0     product arriv time packag great qualiti amaz\n",
      "1                                product amaz love\n",
      "2              bought phone hz display total worth\n",
      "3                    wow product awesom bit expens\n",
      "4                       laptop work perfectli fine\n",
      "5                        check full product detail\n",
      "6                      great purchas happi product\n",
      "7              batteri life excel charg cabl short\n",
      "8                cannot believ good expect qualiti\n",
      "9          love product fast deliveri amaz qualiti\n",
      "10         honest wasnt expect much oh god awesom\n",
      "11                      best product ever use life\n",
      "12        shoe comfort fit nice work perfectli jog\n",
      "Name: stemmed_words, dtype: object\n"
     ]
    }
   ],
   "source": [
    "# Stemming - reduces words to their base root by chopping off suffixes \n",
    "from nltk.stem import PorterStemmer \n",
    "# Initialize the stemmer \n",
    "stemmer = PorterStemmer() \n",
    "# Function to apply stemming \n",
    "def stem_text(text): \n",
    "    if not isinstance(text, str): \n",
    "        return \"\" \n",
    "\n",
    "    words = text.split() \n",
    "    stemmed_words = [stemmer.stem(word) for word in words]  # Apply stemming \n",
    "    return \" \".join(stemmed_words) \n",
    "# Apply the function \n",
    "df[\"stemmed_words\"] = df[\"stopwords_removed\"].apply(stem_text) \n",
    "# Display column content without truncation \n",
    "pd.set_option('display.max_colwidth', None)  # Set to None for unlimited width \n",
    "print(df[\"stemmed_words\"])"
   ]
  },
  {
   "cell_type": "code",
   "execution_count": 32,
   "id": "b2247a3a-8207-4f4f-a1a8-4e95e977ddbf",
   "metadata": {},
   "outputs": [
    {
     "name": "stdout",
     "output_type": "stream",
     "text": [
      "0     product arrive time packaging great quality amazing\n",
      "1                                      product amaze love\n",
      "2                      buy phone hz display totally worth\n",
      "3                       wow product awesome bit expensive\n",
      "4                              laptop work perfectly fine\n",
      "5                               check full product detail\n",
      "6                            great purchase happy product\n",
      "7               battery life excellent charge cable short\n",
      "8                     can not believe good expect quality\n",
      "9              love product fast delivery amazing quality\n",
      "10               honest wasnt expect much oh god awesome\n",
      "11                             best product ever use life\n",
      "12         shoe comfortable fit nicely work perfectly jog\n",
      "Name: lemmatized, dtype: object\n"
     ]
    },
    {
     "name": "stderr",
     "output_type": "stream",
     "text": [
      "[nltk_data] Downloading package punkt_tab to\n",
      "[nltk_data]     C:\\Users\\haoho\\AppData\\Roaming\\nltk_data...\n",
      "[nltk_data]   Package punkt_tab is already up-to-date!\n",
      "[nltk_data] Downloading package averaged_perceptron_tagger_eng to\n",
      "[nltk_data]     C:\\Users\\haoho\\AppData\\Roaming\\nltk_data...\n",
      "[nltk_data]   Package averaged_perceptron_tagger_eng is already up-to-\n",
      "[nltk_data]       date!\n",
      "[nltk_data] Downloading package wordnet to\n",
      "[nltk_data]     C:\\Users\\haoho\\AppData\\Roaming\\nltk_data...\n",
      "[nltk_data]   Package wordnet is already up-to-date!\n"
     ]
    }
   ],
   "source": [
    "# Lemmatization - reduces words to their base dictionary form (lemma) \n",
    "from nltk.stem import WordNetLemmatizer \n",
    "from nltk.corpus import wordnet \n",
    "from nltk.tokenize import word_tokenize \n",
    "from nltk import pos_tag  \n",
    "\n",
    "nltk.download('punkt_tab')\n",
    "nltk.download('averaged_perceptron_tagger_eng')\n",
    "nltk.download('wordnet')\n",
    "\n",
    "\n",
    "# Initialize the lemmatizer \n",
    "lemmatizer = WordNetLemmatizer() \n",
    " \n",
    "# Function to map NLTK POS tags to WordNet POS tags \n",
    "def get_wordnet_pos(nltk_tag): \n",
    "    if nltk_tag.startswith('J'):  # Adjective \n",
    "        return wordnet.ADJ \n",
    "    elif nltk_tag.startswith('V'):  # Verb \n",
    "        return wordnet.VERB \n",
    "    elif nltk_tag.startswith('N'):  # Noun \n",
    "        return wordnet.NOUN \n",
    "    elif nltk_tag.startswith('R'):  # Adverb \n",
    "        return wordnet.ADV \n",
    "    else: \n",
    "        return wordnet.NOUN  # Default to noun \n",
    " \n",
    "# Function to lemmatize text with POS tagging \n",
    "def lemmatize_text(text): \n",
    "    if not isinstance(text, str):  # Ensure input is a string \n",
    "        return \"\" \n",
    " \n",
    "    words = word_tokenize(text)  # Tokenize text into words \n",
    "    pos_tags = pos_tag(words)  # Get POS tags \n",
    "     \n",
    "    # Lemmatize each word with its correct POS tag \n",
    "    lemmatized_words = [lemmatizer.lemmatize(word, get_wordnet_pos(tag)) for word, \n",
    "    tag in pos_tags] \n",
    "    return \" \".join(lemmatized_words)  # Join words back into a sentence \n",
    "# Apply the function to the column \n",
    "df[\"lemmatized\"] = df[\"stopwords_removed\"].apply(lemmatize_text) \n",
    "# Display column content without truncation \n",
    "pd.set_option('display.max_colwidth', None)  # Set to None for unlimited width \n",
    "print(df[\"lemmatized\"]) "
   ]
  },
  {
   "cell_type": "code",
   "execution_count": 33,
   "id": "37a724cc-4127-4a32-8f2e-148fcf3419ef",
   "metadata": {},
   "outputs": [],
   "source": [
    "df.to_csv(\"Processed_Reviews.csv\", index=False)  # Saves without the index column \n"
   ]
  },
  {
   "cell_type": "markdown",
   "id": "5cd67646-6d6b-4c26-87e0-21e43d76e0f1",
   "metadata": {},
   "source": [
    "<h1>Exercise</h1>"
   ]
  },
  {
   "cell_type": "code",
   "execution_count": 35,
   "id": "f951e1ba-1d16-4a8a-aeb9-20f252c02fd5",
   "metadata": {},
   "outputs": [
    {
     "name": "stdout",
     "output_type": "stream",
     "text": [
      "                      Timestamp  \\\n",
      "0   2025/02/10 7:40:54 pm GMT+8   \n",
      "1   2025/02/10 7:41:00 pm GMT+8   \n",
      "2   2025/02/10 7:41:19 pm GMT+8   \n",
      "3   2025/02/10 7:46:40 pm GMT+8   \n",
      "4   2025/02/10 7:46:43 pm GMT+8   \n",
      "5   2025/02/10 7:50:23 pm GMT+8   \n",
      "6   2025/02/10 7:51:50 pm GMT+8   \n",
      "7   2025/02/10 7:56:00 pm GMT+8   \n",
      "8   2025/02/10 7:57:43 pm GMT+8   \n",
      "9   2025/02/10 7:58:31 pm GMT+8   \n",
      "10  2025/02/10 7:59:18 pm GMT+8   \n",
      "11  2025/02/10 7:59:26 pm GMT+8   \n",
      "12  2025/02/10 7:59:28 pm GMT+8   \n",
      "13  2025/02/10 7:59:37 pm GMT+8   \n",
      "14  2025/02/10 8:00:24 pm GMT+8   \n",
      "15  2025/02/10 8:00:44 pm GMT+8   \n",
      "16  2025/02/10 8:00:47 pm GMT+8   \n",
      "17  2025/02/10 8:02:06 pm GMT+8   \n",
      "18  2025/02/10 8:02:18 pm GMT+8   \n",
      "19  2025/02/10 8:02:38 pm GMT+8   \n",
      "20  2025/02/10 8:02:44 pm GMT+8   \n",
      "21  2025/02/10 8:03:01 pm GMT+8   \n",
      "22  2025/02/10 8:03:09 pm GMT+8   \n",
      "23  2025/02/10 8:03:11 pm GMT+8   \n",
      "24  2025/02/10 8:03:32 pm GMT+8   \n",
      "25  2025/02/10 8:03:39 pm GMT+8   \n",
      "26  2025/02/10 8:03:57 pm GMT+8   \n",
      "27  2025/02/10 8:04:37 pm GMT+8   \n",
      "28  2025/02/10 8:04:44 pm GMT+8   \n",
      "29  2025/02/10 8:04:56 pm GMT+8   \n",
      "30  2025/02/10 8:05:09 pm GMT+8   \n",
      "31  2025/02/10 8:06:01 pm GMT+8   \n",
      "32  2025/02/10 8:06:08 pm GMT+8   \n",
      "33  2025/02/10 8:06:09 pm GMT+8   \n",
      "34  2025/02/10 8:06:43 pm GMT+8   \n",
      "35  2025/02/10 8:07:18 pm GMT+8   \n",
      "36  2025/02/10 8:07:40 pm GMT+8   \n",
      "37  2025/02/10 8:07:41 pm GMT+8   \n",
      "38  2025/02/10 8:08:26 pm GMT+8   \n",
      "39  2025/02/10 8:08:31 pm GMT+8   \n",
      "40  2025/02/10 8:08:34 pm GMT+8   \n",
      "41  2025/02/10 8:08:38 pm GMT+8   \n",
      "42  2025/02/10 8:09:03 pm GMT+8   \n",
      "43  2025/02/10 8:10:42 pm GMT+8   \n",
      "44  2025/02/10 8:10:47 pm GMT+8   \n",
      "45  2025/02/10 8:12:13 pm GMT+8   \n",
      "46  2025/02/10 8:13:29 pm GMT+8   \n",
      "47  2025/02/10 8:14:54 pm GMT+8   \n",
      "48  2025/02/10 8:17:27 pm GMT+8   \n",
      "49  2025/02/10 8:22:41 pm GMT+8   \n",
      "50  2025/02/10 9:12:13 pm GMT+8   \n",
      "51  2025/02/10 9:13:11 pm GMT+8   \n",
      "\n",
      "                                                                                                                                                                                                                                                                                                                                                                                                                                                                                                                                                                                                                                                                                                                                                                                                                                                                                                                                                                                                                                                                                                                                                                                                                                                                                                                                                                              Review  \n",
      "0                                                                                                                                                                                                                                                                                                                                                                                                                                                                                                                                                                                                                                                                                                                                                                                                                                                                                                                                                                                                                                                                                                                                                                                                                                                                                                                               Im happy with uniten actually, even the people are W  \n",
      "1                                                                                                                                                                                                                                                                                                                                                                                                                                                                                                                                                                                                                                                                                                                                                                                                                                                                                                                                                                                                                                                                                                                                                                                                                                                                                                           Iâm having a pretty good time here, happy to meet all of the W people.  \n",
      "2                                                                                                                                                                                                                                                                                                                                                                                                                                                                                                                                                                                                                                                                                                                                                                                                                                                                                                                                                                                                                                                                                                                                                                                                                                                                                                                                        a very neutral place in terms of everything  \n",
      "3                                                                                                                                                                                                                                                                                                                                                                                                                                                                                                                                                                                                                                                                                                                                                                                                                                                                                                                                                                                                                                                                                                                                                                                                                        I would say Uniten it's  a good university  but there is some issue need to be improved such as transportation,wifi networks and other facilities  as well.  \n",
      "4                                                                                                                                                                                                                                                                                                                                                                                                                                                                                                                                                                                                                                                                                                                                                                                                                                                                                                                                                                                                                        UNITEN is well-regarded, particularly for its strong engineering, computer science, and business programs. It has a solid reputation in Malaysia, especially in energy-related fields. The negative part is the facilities such as the swimming pool are close since my first year till 3 year now and there are limited parking so it's make hard to find.  \n",
      "5                                                                                                                                                                                                                                                                                                                                                                                                                                                                                                                                                                                                                                                                                                                                                                                                                                                                                                                                                                                                                                                                                                                                   Neutral - Because currently UNITEN has developed various new facilities for UNITEN students such as 24 hours emart... Personally for the negative side I would say that UNITEN needs to fix the broken toilet in the library and BM/BN buildings  \n",
      "6                                                                                                                                                                                                                                                                                                                                                                                                                                                                                                                                                                                                                                                                                                                                                                                                                                                                                                                                                                                                                                                                                                                                                                                                                                                                                                                                                                             regret  \n",
      "7                                                                                                                                                                                                                                                                                                                                                                                                                                                                                                                                                                                                                                                                                                                                                                                                                                                                                                                                                                                                                                                                                                     In my opinion, UNITEN is not really a student-oriented university even though it is a private university. The facility is not in well-maintained condition and the flexibility of using the facilities is low. The number of students also low compared to other universities.  \n",
      "8                                                                                                                                                                                                                                                                                                                                                                                                                                                                                                                                                                                                                                                                                                                                                                                                                                                                                                                                                   UNITEN today is the shadow of its former self. What attracted me to UNITEN in the first place is not there anymore, e.g; our very own faculty building. The student dedicated website is terrible. I can name thousands of thousands website that is infinitely better. The hostel room application is ridiculous. The only pros that I could ever think of is the location of the campus that is situated near to major cities.  \n",
      "9                                                                                                                                                                                                                                                                                                                                                                                                                                                                                                                                                                                                                                                                                                                                                                                                                                                                                                                                                                                                                                                                                                                                                                                                                                                                                                                           The great place and people that I will remember forever   \n",
      "10                                                                                                                                                                                                                                                                                                                                                                                                                                                                                                                                                                                                                                                                                                                                                                                                                                                                                                                                                                                                                                                                                                                                                                                                                                                                              UNITEN is an interesting university because it's Tenaga university or the national energy university  \n",
      "11                                                                                                                                                                                                                                                                                                                                                                                                                                                                                                                                                                                                                                                                                                                                                                                                                                                                                                                                                                                                                                                                                                                                                                                                                                                                                                                                                    Good enviroment and facilities  \n",
      "12                                                                                                                                                                                                                                                                                                                                                                                                                                                                                                                                                                                                                                                                                                                                                                                                                                                                                                                                                                                                                                                                                                                         For me, Uniten just a neutral for me because there is some positive and negative aspect for it. For example, positive side of it, is about supportive and easy going lecturer. Meanwhile negative side is about wifi connection is slow in certain areas.  \n",
      "13                                                                                                                                                                                                                                                                                                                                                                                                                                                                                                                                                                                                                                                                                                                                                                                                                                                                                                                                                                                                                                                                                                                                                                                                                                Honestly uniten I feel like uniten is not the best neither the worst. I just feel like there are many more things to improve throughout the campus  \n",
      "14                                                                                                                                                                                                                                                                                                                                                                                                                                                                                                                                                                                                                                                                                                                                                                                                                                                                                            UNITEN is a solid choice for students interested in engineering, IT, or energy-related fields, offering strong industry connections and modern facilities. However, its specialized focus and location may not suit everyone. If youâre looking for a university with a strong technical emphasis and ties to the energy sector, UNITEN could be a great fit. If you prefer a more diverse academic environment or a bustling social scene, you might want to explore other options.  \n",
      "15                                                                                                                                                                                                                                                                                                                                                                                                                                                                                                                                                                                                                                                                                                                                                                                                                                                                                                                                                                                                                                                                                                                                                                                                                                                                                                                                                                   Bad in managemn  \n",
      "16                                                                                                                                                                                                                                                                                                                                                                                                                                                                                                                                                                                                                                                                                                                                                                                                                                                                                                                                                                                                                                                                                                                                                                                                           I have faced a lot of problems while being in UNITEN such as internet connectivity and facilities is not in a good condition (air conditioning sometimes not working) .  \n",
      "17                                                                                                                                                                                                                                                                                                                                                                                                                                                                                                                                                                                                                                                                                                                                                                                                                                                                                                                                                                                                                                                                                                                                              Uniten has great facilities, always give freedom for students to choose but some of the facilities upgrade is progressing very slow. The miscellaneous fee is still undefined. I think student should know what are they paying for.  \n",
      "18                                                                                                                                                                                                                                                                                                                                                                                                                                                                                                                                                              Uniten is unnecessarily expensive for the service it's offering. It is practically 10 times the price of a normal public university with barely any additional service. Most service center is broken, some road light doesn't even lit up and certain buildings are either close or straight up close off making the layout of the campus make less and less sense throughout the year. The service quality also isn't much better than the local ones therefore making the price tags makes less sense. The management side also isn't a huge downside. Schedule are a mess, events handled in exchange of student comfort and the report system keep making us report the same thing over and over again instead of putting on a timer or weight to solve the solution. Overall, 10/10, will never do this again.  \n",
      "19                                                                                                                                                                                                                                                                                                                                                                                                                                                                                                                    FIrst of all, UNITEN Strong point is the lecturer there are so many great lecturers here that have such precious knowledge they are willing to share. The course selection is abundance and align with modern world. Then, their proximity to bunch of food is very convenient. That what I could deem positive part about it. For neutral part of it, is their facilities, there are some good like the classes especially the new renovated class at BM, then we found poor class such as BV Theatre, then we have Library which is such a good benchmark for other theatre. The road is serviceable. Then for bad part is their management, slow, frustrating and could be very annoying. The event are subpar at best, the SRC is barely noticeable. In general, bunch of Uniten features, they are towards the right direction but lacking at execution.   \n",
      "20                                                                                                                                                                                                                                                                                                                                                                                                                                                                                                                                                                                                                                                                                                                                                                                                                                                                                         in my opinion UNITEN offers great opportunities in terms of exploring ourselves in preparing our future. but, there are many ways UNITEN makes the student life a \"hassle\". First for the longest times, the walkway for students and the bike road are damaged and filled with holes which will cause accidents and other issues. another is the issue with the admins in UNITEN UCC. although there are many whom help with the issue. Many are created with neglect of the Ucc staff.   \n",
      "21                                                                                                                                                                                                                                                                                                                                                                                                                                                                                                                                                                                                                                                                                                                                                              As a UNITEN student, Iâve had a great experience so far. Lecturers are knowledgeable and approachable, always willing to help when needed. The campus facilities are well-maintained, including the labs, libraries, and study areas, which make learning more convenient. The academic workload is challenging but manageable, and the curriculum is industry-relevant, preparing us well for future careers. There are also many clubs and activities to join, making campus life more enjoyable. Overall, UNITEN provides a balanced university experience with quality education and a supportive environment.  \n",
      "22                                                                                                                                                                                                                                                                                                                                                                                                                                                                                                                                                                                                                                                                                                                                                                                                                                                                                                                                                                                                                                                                                                                Bad in management. Every sem had a problem about timetable and subject registration. Price per subject very expensive even not related to our programme. Dont have a lot of parking especially at the library. Timetable very very stressful, have class at night   \n",
      "23  UNITEN has great academic potential, but there are several areas that need improvement, particularly in its facilities and management. Many classrooms and lecture halls have outdated equipment, including malfunctioning air conditioning and inadequate seating, making it uncomfortable for students. The library, while resourceful, requires better maintenance, more study spaces, and a stronger Wi-Fi connection. Additionally, sports and recreational facilities need urgent upgrades, as the gym lacks proper equipment and some sports courts are not well-maintained, discouraging student participation in extracurricular activities.\\n\\nThe universityâs management and administrative processes also require improvement. Response times from offices such as finance and student affairs are often slow, leading to delays in resolving student concerns regarding fees and scholarships. Course registration is another major issue, with frequent system crashes and unclear guidelines creating unnecessary stress. Moreover, communication between the university and students needs enhancement, as important updates about policy changes, events, and academic matters are not always effectively conveyed. Addressing these issues will significantly enhance the student experience and ensure UNITEN remains a top choice for higher education.\\n  \n",
      "24                                                                                                                                                                                                                                                                                                                                                                                                                                                                                                                                                                                                                                                                                                                                                                                                                                                                                                                                                                                                                                                                                                                                                                                         The managment system is the worst. The student could not get any time or study week before the finals and we could not get a longor period of time to settle down our pro forma invoice.   \n",
      "25                                                                                                                                                                                                                                                                                                                                                                                                                                                                                                                                                                                                                                                                                                                                                                                                                                                                                                                                                                                                                                                                                                                                                                                                                                                         they insist u to pay the pro forma urgently. maybe try to be considerate to people who comes from not so wealthy family.   \n",
      "26                                                                                                                                                                                                                                                                                                                                                                                                                                                                                                                                                                                                                                                                                                                                                                                                                                                                                                                                                                                                                                                                                                                                                                                                                                                                                                                     Good education but for accommodation & facilities not so much  \n",
      "27                                                                                                                                                                                                                                                                                                                                                                                                                                                                                                                      In my honest opinjon, its neutral. Uniten got its good and bad side in it. Good things are the lecturers, environment, and education here are positive and non-toxic. Its quite peaceful here. The bad side are more on how the projection of the student's future and well-being. I've seen that the staff's and how uniten goes is not student-oriented. The courses are kinda old for certain subjects and not industry based. We also lack of business and entrepreneur funding for startups. We dont have the innovation, research, and startups environment here. If the environments are more competitive, and the uniten itself promotes the innovation and research culture, we could produce better future oriented students. Exposure is a guaranteed for them. But I believe jt requires both efforts from students and the uniten also. We good  \n",
      "28                                                                                                                                                                                                                                                                                                                                                                                                                                                                                                                                                                                                                                                                                                                                                                                                                                                                                                                                                                                                                                                                                                                                                                                                                                                                                                                                                                   Uniten is great  \n",
      "29                                                                                                                                                                                                                                                                                                                                                                                                                                                                                                                                                                                                                                                                                                                                                                                                                                                                                                                                                                                                                                                       honestly, night class is such a huge hassle and big disadvantages to students. Nighttime is the time where all to most students are occupied with studying, assignments or even resting since in the daytime, most of the students wouldnt be able to do so because of classes. I think nighttime classes should not exist.  \n",
      "30                                                                                                                                                                                                                                                                                                                                                                                                                                                                                                                                                                                                                                                                                                                                                                                                                                 For residency, uniten need to create more space for parking and create designated area for student parking and it will be nice if theres a roof for parking, every event that held at dss, all the parking near dss will be closed, where should we park our car. And please makesure cendi allow us to apply access and not just depend on scorun but first come first serve. And please devide the student to who ever drive cars stay at amanah and those who dont stay at cendi. Thankyou very much and please do something about the carpark  \n",
      "31                                                                                                                                                                                                                                                                                                                                                                                                                                                                                                                                                                                                                                                                                                                                                                                                                                                                                                                                                                                                                                                                                                                                                                                                                                                                                     great facilities, great residency. eventhough the management still have room for improvement.  \n",
      "32                                                                                                                                                                                                                                                                                                                                                                                                                                                                                                                                                                                                                                                                                                                                                                                                                                                                                                                                                                                                                                                                                                                                                                       In my opinion, UNITEN is okay as it is. However, it would be great if UNITEN implement the âRumah Sukan Sistemâ . This initiative will further strengthen the bonds between UNITEN students and staffs.  \n",
      "33                                                                                                                                                                                                                                                                                                                                                                                                                                                                                                                                                                                                                                                                                                                                                                                                                                                                                                                                                                                                                                                                                                                                                                                                                                                                                                                                                   Naah, this university is a joke  \n",
      "34                                                                                                                                                                                                                                                                                                                                                                                                                                                                                                                                                                                                                                                                                                                                                                                                                                                                                                                                                                                                                                                                                                                                                                                                                                                                                              good facility, friendly community, itms, sir lim kok cheng, coway, kelas malam, wifi  \n",
      "35                                                                                                                                                                                                                                                                                                                                                                                                                                                                                                                                                                                                                                                                                                                                                                                                                                                                                                                                                                                                                                                                                                                                                                                                                                                                                                                  UNITEN is among the best universities that provide IT programmes  \n",
      "36                                                                                                                                                                                                                                                                                                                                                                                                                                                                                                                                                                                                                                                                                                                                                                                                                                                                                                                                                                                                                                                                                                                                                                                                                                                                                                                                                  Don't go to UNITEN, go elsewhere  \n",
      "37                                                                                                                                                                                                                                                                                                                                                                                                                                                                                                                                                                                                                                                                                                                                                                                                                                                                                                                                                                                                                                                                                                                                                                                                         Well when I first arrived at uniten I thought \"Ouh this is an energy university maybe the electric won't be an issue\"\\n*proceeds to pay every single month for utilities*  \n",
      "38                                                                                                                                                                                                                                                                                                                                                                                                                                                                                                                                                                                                                                                                                                                                                                                                                                                                                                                                                                                                                                                                                                                                                                                                                                                                                                                          It's a good university, but I don't trust its management  \n",
      "39                                                                                                                                                                                                                                                                                                                                                                                                                                                        As a final year student, I have a mixed review or opinion about UNITEN. I loved the education. The syllabus taught to students are very comprehensive and up to date to the industry standard. This prepares students in the working industry when they graduate.\\n\\nAs for the facilities, its quite poor in quality. Example includes, roof leakage, broken toilet and damaged roads. There is also poor security controls. Anybody can enter in and out of UNITEN whether they are a student or complete stranger. This poses a threat to all of UNITEN community from students to staffs. \\n\\nWould i recommend this university to someone i know? No i would not. There are other universities out there that are miles better than UNITEN. Make a proper research about the university before you enroll because you are going to spend 3-4 years there and potentially have a bright future ahead waiting for you.   \n",
      "40                                                                                                                                                                                                                                                                                                                                                                                                                                                                                                                                                                                                                                              Itâs a great place to study but for me the are lot of things that need to improve?? wifi connection is the priority since there a lot of bad connections, the things that i have the issue since first semester, which is the we not have any âbaju koperatâ or tshirt that shows we are the uniten student like the main shirt of UNITEN, this happens because during that time, i have go to the outside event like involved with a lot of university, UNITEN students is the only have not the same shirt, like we just use our own shirts, there are the person like literally âhalauâ us thought we are just outsiders haha, and the positive think that i like about UNITEN is they have a very good lecturer â¤ï¸  \n",
      "41                                                                                                                                                                                                                                                                                                                                                                                                                                                                                                                                                                                                                                                                                                                                                                                                                                                                                                                                                                                first I would say the facility where the student learn is very comfortable with comfortable chair and having aircon in every classroom. The food here is amazing and affordable. The accomodation for the student is nice but the problem is always the internet not being able to connect to wifi sometimes. Other then that, parking need to be improve so that more student can park their car.  \n",
      "42                                                                                                                                                                                                                                                                                                                                                                                                                                                                                                                                                                                                                                                                                                                                                                                                                                                                                                                                                                                     Academically, UNITEN provides courses that focus more on technology and future development. This positively impacts the current national agenda, which aims to achieve sustainable economic growth and technological advancement. UNITEN has many experienced lecturers who are actively working in the industry, helping to develop studentsâ skills and prepare them for the workforce.    \n",
      "43                                                                                                                                                                                                                                                                                                                                                                                                                                                                                                                                                                                                                                                                                                                                                                                                                                                                                                                                                                                                                                                                                                                                                                                                                                                                                         for an energy university Im impressed with the ev bus implemented but damn the wifi sucks  \n",
      "44                                                                                                                                                                                                                                                                                                                                                                                                                                                                                                                                                                                                                                                                                                                                                                                                                                                                                                                                                                                                                                                                                                                                                                                                                       Uniten has mostly very good lecturers and has sufficient facilities. But accomodation for students are lacking in terms of class schedules and flexibility.  \n",
      "45                                                                                                                                                                                                                                                                                                                                                                                                                                                                                                                                                                                                                                                                                                                                                                                                                                                                                                                                                                                                                                                                                                                                                                                                                                                                                                                                                                            #NAME?  \n",
      "46                                                                                                                                                                                                                                                                                                                                                                                                                                                                                                                                                                                                                                                                                                                                                             I feel neither good nor bad towards UNITEN. There are some aspects that I like such as the courses & syllabuses taught to us students. They are relevant for our future because Iâve used those knowledge during my internship and they were shocked that I know such things. The environment itself is also not bad. Library is comfortable. Classes have full lightings to study in. What I dont like is the lack of concerns towards studentsâ practicality. Less parking spots. Difficulty to access uniten brighten or any uniten website during the release of examination results. Poor wifi connectivity.  \n",
      "47                                                                                                                                                                                                                                                                                                                                                                                                                                                                                                                                                                                                                                                                                                                                                                                                                                                                                                                                                                                                                                                                                                                                                                                                                                                                                                                                                                         moderate   \n",
      "48                                                                                                                                                                                                                                                                                                                                                                                                                                                                                                                                                                                                                                                                                                                                                                                                                                                                                                                                                                                                                                                                                                                                                                                                                                                                                                                                                the facilities are not really good  \n",
      "49                                                                                                                                                                                                                                                                                                                                                                                                                                                                                                                                                                                                                                                                                                                                                                                                                                                                                                                                                                                                                                                                                                                                                                                                                                      UNITEN is a great university. However there are some room of improvements with the issues on accommodations, studies, curriculums and others  \n",
      "50                                                                                                                                                                                                                                                                                                                                                                                                                                                                                                                                                                                                                                                                                                                                                                                                                                                                                                                                                                                                                                                                                                                                                                                                                                                                                   Student info yg old school.aplikasi student life yg tak funtion.kos bayar mahal tpi ni je dapat  \n",
      "51                                                                                                                                                                                                                                                                                                                                                                                                                                                                                                                                                                                                                                                                                                                                                                                                                                                                                                                                                                                                              Saya merasakan uniten perlu improve dari segi system delay mereka dalam aspek student info ia akan mengganggu student untuk akses dalam web itu,Dari aspek kos pendidikan,ia terlalu mahal dan tidak mengikut harga yang di bayar mahal tersebut.Jika servis perkhidmatan pendidikan ia mahal perlulah mengikut prosedur tersebut.Maaf hanya sekadar hujahan sahaja.  \n"
     ]
    }
   ],
   "source": [
    "# Load dataset \n",
    "import pandas as pd \n",
    "file_path = \"UNITENReview.csv\" \n",
    "df = pd.read_csv(file_path, encoding=\"ISO-8859-1\") \n",
    "# Display column content without truncation \n",
    "pd.set_option('display.max_colwidth', None)  # Set to None for unlimited width \n",
    "print(df)\n"
   ]
  },
  {
   "cell_type": "markdown",
   "id": "573a4498-3196-4ae5-8156-99f39244b940",
   "metadata": {},
   "source": [
    "<h3>1. Identify the issues with the “Review” column in the UNITENReview.csv file </h3>\n",
    "According to the df, the textual data in the review column is not yet to be processed, in which it consists impurities such as short form, stop words and irrelevant terms.\n",
    "To perform analysis, we have to preprocess the data so that pattern can be recognized among the cleansed dataset."
   ]
  },
  {
   "cell_type": "code",
   "execution_count": null,
   "id": "a5fae366-6371-4073-9709-e216697e92c2",
   "metadata": {},
   "outputs": [],
   "source": []
  }
 ],
 "metadata": {
  "kernelspec": {
   "display_name": "Python 3 (ipykernel)",
   "language": "python",
   "name": "python3"
  },
  "language_info": {
   "codemirror_mode": {
    "name": "ipython",
    "version": 3
   },
   "file_extension": ".py",
   "mimetype": "text/x-python",
   "name": "python",
   "nbconvert_exporter": "python",
   "pygments_lexer": "ipython3",
   "version": "3.12.7"
  }
 },
 "nbformat": 4,
 "nbformat_minor": 5
}
